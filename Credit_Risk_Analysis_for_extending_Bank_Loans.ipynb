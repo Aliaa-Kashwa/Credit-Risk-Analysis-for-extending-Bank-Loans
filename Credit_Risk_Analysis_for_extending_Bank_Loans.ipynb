{
  "nbformat": 4,
  "nbformat_minor": 0,
  "metadata": {
    "colab": {
      "provenance": []
    },
    "kernelspec": {
      "name": "python3",
      "display_name": "Python 3"
    },
    "language_info": {
      "name": "python"
    }
  },
  "cells": [
    {
      "cell_type": "markdown",
      "source": [
        "#**Problem Formulation**\n",
        "\n",
        "**About Problem:**\n",
        "\n",
        "* Credit scoring is a classification problem where the objective is to predict whether or not an individual will default on their credit. \n",
        "\n",
        "* Credit scoring is perhaps one of the most \"classic\" applications for predictive\n",
        "modeling, to predict whether or not credit extended to an applicant will likely\n",
        "result in profit or losses for the lending institution. \n",
        "\n",
        "There are many variations and complexities regarding how exactly credit is extended to individuals, businesses, and other organizations for various purposes (purchasing equipment, real estate, consumer items, and so on), and using various methods of credit (credit card, loan, delayed payment plan). But in all cases, the lender provides money to an individual or institution and expects to be paid back in time with interest commensurate with the risk of default.\n",
        "\n",
        "**About Dataset:**\n",
        "\n",
        "* age: Age of the Customers\n",
        "\n",
        "* ed: Education Level\n",
        "\n",
        "* employ: Work Experience\n",
        "\n",
        "* address: Address of the Customer\n",
        "\n",
        "* income: Yearly Income of the customer\n",
        "\n",
        "* debtinc: Debt to Income Ratio\n",
        "\n",
        "* creddebt: Credit to Debt ratio\n",
        "\n",
        "* othdebt: Other debts\n",
        "\n",
        "* default: Customer defaulted in the past (1= defaulted, 0= Never defaulted)\n",
        "\n",
        "> Dataset Kaggle Link: https://www.kaggle.com/datasets/atulmittal199174/credit-risk-analysis-for-extending-bank-loans\n",
        "\n",
        "**Bussiness Objectives:**\n",
        "\n",
        "* Marketing Aspect\n",
        "* Application Aspect\n",
        "* Performance Aspect\n",
        "* Bad Debt Management                                                                                                                                          "
      ],
      "metadata": {
        "id": "2StMJ9Hn3QfU"
      }
    },
    {
      "cell_type": "code",
      "source": [
        "from google.colab import drive\n",
        "drive.mount('/content/drive')"
      ],
      "metadata": {
        "colab": {
          "base_uri": "https://localhost:8080/"
        },
        "id": "nGg_N6xtk_bg",
        "outputId": "efce762e-d223-4be6-d976-d1e590147f58"
      },
      "execution_count": 26,
      "outputs": [
        {
          "output_type": "stream",
          "name": "stdout",
          "text": [
            "Drive already mounted at /content/drive; to attempt to forcibly remount, call drive.mount(\"/content/drive\", force_remount=True).\n"
          ]
        }
      ]
    },
    {
      "cell_type": "markdown",
      "source": [
        "#**Import libraries**"
      ],
      "metadata": {
        "id": "5_00KVtReAgY"
      }
    },
    {
      "cell_type": "code",
      "execution_count": 27,
      "metadata": {
        "id": "M-cXlsqsdgl8"
      },
      "outputs": [],
      "source": [
        "import numpy as np\n",
        "import pandas as pd\n",
        "import matplotlib.pyplot as plt\n",
        "import keras\n",
        "\n",
        "from sklearn.model_selection import train_test_split\n",
        "from sklearn.preprocessing import StandardScaler, MinMaxScaler, RobustScaler\n",
        "\n",
        "from sklearn.linear_model import LogisticRegression\n",
        "from sklearn.ensemble import RandomForestClassifier, GradientBoostingClassifier\n",
        "from xgboost import XGBClassifier\n",
        "\n",
        "from keras.models import Sequential\n",
        "from keras.layers import Dense, Dropout\n",
        "from keras.callbacks import EarlyStopping\n",
        "\n",
        "from sklearn.metrics import accuracy_score, precision_score, recall_score, f1_score\n",
        "from sklearn.pipeline import make_pipeline"
      ]
    },
    {
      "cell_type": "markdown",
      "source": [
        "#**EDA**"
      ],
      "metadata": {
        "id": "rdBW6EgBeVhp"
      }
    },
    {
      "cell_type": "code",
      "source": [
        "#Read data from the csv file\n",
        "df= pd.read_csv('/content/drive/MyDrive/bankloans.csv')"
      ],
      "metadata": {
        "id": "y9YqykPPdqMA"
      },
      "execution_count": 28,
      "outputs": []
    },
    {
      "cell_type": "code",
      "source": [
        "#display first 5 rows\n",
        "print(df.head())"
      ],
      "metadata": {
        "colab": {
          "base_uri": "https://localhost:8080/"
        },
        "id": "J1PgQEQ7gDcn",
        "outputId": "1bd761f3-0ebf-4164-8178-6606439f736f"
      },
      "execution_count": 29,
      "outputs": [
        {
          "output_type": "stream",
          "name": "stdout",
          "text": [
            "   age  ed  employ  address  income  debtinc   creddebt   othdebt  default\n",
            "0   41   3      17       12     176      9.3  11.359392  5.008608      1.0\n",
            "1   27   1      10        6      31     17.3   1.362202  4.000798      0.0\n",
            "2   40   1      15       14      55      5.5   0.856075  2.168925      0.0\n",
            "3   41   1      15       14     120      2.9   2.658720  0.821280      0.0\n",
            "4   24   2       2        0      28     17.3   1.787436  3.056564      1.0\n"
          ]
        }
      ]
    },
    {
      "cell_type": "code",
      "source": [
        "#display last 5 rows\n",
        "print(df.tail())"
      ],
      "metadata": {
        "colab": {
          "base_uri": "https://localhost:8080/"
        },
        "id": "kOeP3nC0gLop",
        "outputId": "83217ef3-d959-4028-d6c4-bb3e11777467"
      },
      "execution_count": 30,
      "outputs": [
        {
          "output_type": "stream",
          "name": "stdout",
          "text": [
            "      age  ed  employ  address  income  debtinc  creddebt   othdebt  default\n",
            "1145   34   1      12       15      32      2.7  0.239328  0.624672      NaN\n",
            "1146   32   2      12       11     116      5.7  4.026708  2.585292      NaN\n",
            "1147   48   1      13       11      38     10.8  0.722304  3.381696      NaN\n",
            "1148   35   2       1       11      24      7.8  0.417456  1.454544      NaN\n",
            "1149   37   1      20       13      41     12.9  0.899130  4.389870      NaN\n"
          ]
        }
      ]
    },
    {
      "cell_type": "code",
      "source": [
        "#display data shape\n",
        "print(df.shape)"
      ],
      "metadata": {
        "colab": {
          "base_uri": "https://localhost:8080/"
        },
        "id": "FOFe43ROgR-_",
        "outputId": "157ca54a-f81d-4a85-c975-87ddb4d4a7d1"
      },
      "execution_count": 31,
      "outputs": [
        {
          "output_type": "stream",
          "name": "stdout",
          "text": [
            "(1150, 9)\n"
          ]
        }
      ]
    },
    {
      "cell_type": "code",
      "source": [
        "#display columns names\n",
        "print(df.columns)"
      ],
      "metadata": {
        "colab": {
          "base_uri": "https://localhost:8080/"
        },
        "id": "KF950K3cgdm1",
        "outputId": "fb863c53-cf87-4bb0-c273-1bb7c0de5ba5"
      },
      "execution_count": 32,
      "outputs": [
        {
          "output_type": "stream",
          "name": "stdout",
          "text": [
            "Index(['age', 'ed', 'employ', 'address', 'income', 'debtinc', 'creddebt',\n",
            "       'othdebt', 'default'],\n",
            "      dtype='object')\n"
          ]
        }
      ]
    },
    {
      "cell_type": "code",
      "source": [
        "#display columns datatype\n",
        "print(df.dtypes)"
      ],
      "metadata": {
        "colab": {
          "base_uri": "https://localhost:8080/"
        },
        "id": "EGbUWQgWgdjc",
        "outputId": "75dc5e73-21b8-48a1-c64c-6d19f302451a"
      },
      "execution_count": 33,
      "outputs": [
        {
          "output_type": "stream",
          "name": "stdout",
          "text": [
            "age           int64\n",
            "ed            int64\n",
            "employ        int64\n",
            "address       int64\n",
            "income        int64\n",
            "debtinc     float64\n",
            "creddebt    float64\n",
            "othdebt     float64\n",
            "default     float64\n",
            "dtype: object\n"
          ]
        }
      ]
    },
    {
      "cell_type": "markdown",
      "source": [
        "**Observation:** There are problematic data types."
      ],
      "metadata": {
        "id": "Yl_KUrB8mS7b"
      }
    },
    {
      "cell_type": "code",
      "source": [
        "#display number of missing values in each column\n",
        "print(df.isnull().sum())"
      ],
      "metadata": {
        "colab": {
          "base_uri": "https://localhost:8080/"
        },
        "id": "tUWkp-5qgGr4",
        "outputId": "5df9ea1b-ba1b-4ebd-dd31-866a2400d640"
      },
      "execution_count": 34,
      "outputs": [
        {
          "output_type": "stream",
          "name": "stdout",
          "text": [
            "age           0\n",
            "ed            0\n",
            "employ        0\n",
            "address       0\n",
            "income        0\n",
            "debtinc       0\n",
            "creddebt      0\n",
            "othdebt       0\n",
            "default     450\n",
            "dtype: int64\n"
          ]
        }
      ]
    },
    {
      "cell_type": "markdown",
      "source": [
        "**Observation:** There are 450 missing values in target column (default)."
      ],
      "metadata": {
        "id": "jNLl8_Sim2PJ"
      }
    },
    {
      "cell_type": "code",
      "source": [
        "#display number of duplicates \n",
        "print(df.duplicated().sum())"
      ],
      "metadata": {
        "colab": {
          "base_uri": "https://localhost:8080/"
        },
        "id": "YpPkPZHUnjAN",
        "outputId": "7c6c8993-36bd-42af-b55d-6de4052a8ea6"
      },
      "execution_count": 35,
      "outputs": [
        {
          "output_type": "stream",
          "name": "stdout",
          "text": [
            "300\n"
          ]
        }
      ]
    },
    {
      "cell_type": "markdown",
      "source": [
        "**Observation:** There are 300 duplicated value that we should remove."
      ],
      "metadata": {
        "id": "MVNT06j8nzJ_"
      }
    },
    {
      "cell_type": "code",
      "source": [
        "#display some useful info about the data\n",
        "print(df.info())"
      ],
      "metadata": {
        "colab": {
          "base_uri": "https://localhost:8080/"
        },
        "id": "D_yr_KPYgGhb",
        "outputId": "677e017d-54d8-4488-e60a-ccb561145d83"
      },
      "execution_count": 36,
      "outputs": [
        {
          "output_type": "stream",
          "name": "stdout",
          "text": [
            "<class 'pandas.core.frame.DataFrame'>\n",
            "RangeIndex: 1150 entries, 0 to 1149\n",
            "Data columns (total 9 columns):\n",
            " #   Column    Non-Null Count  Dtype  \n",
            "---  ------    --------------  -----  \n",
            " 0   age       1150 non-null   int64  \n",
            " 1   ed        1150 non-null   int64  \n",
            " 2   employ    1150 non-null   int64  \n",
            " 3   address   1150 non-null   int64  \n",
            " 4   income    1150 non-null   int64  \n",
            " 5   debtinc   1150 non-null   float64\n",
            " 6   creddebt  1150 non-null   float64\n",
            " 7   othdebt   1150 non-null   float64\n",
            " 8   default   700 non-null    float64\n",
            "dtypes: float64(4), int64(5)\n",
            "memory usage: 81.0 KB\n",
            "None\n"
          ]
        }
      ]
    },
    {
      "cell_type": "code",
      "source": [
        "#display statistical describtion about the data\n",
        "print(df.describe())"
      ],
      "metadata": {
        "colab": {
          "base_uri": "https://localhost:8080/"
        },
        "id": "nkIcMcQcgGu1",
        "outputId": "4c44e710-285a-4101-b4f5-72ec3c1a08db"
      },
      "execution_count": 37,
      "outputs": [
        {
          "output_type": "stream",
          "name": "stdout",
          "text": [
            "               age           ed       employ      address       income  \\\n",
            "count  1150.000000  1150.000000  1150.000000  1150.000000  1150.000000   \n",
            "mean     35.235652     1.695652     8.781739     8.485217    47.982609   \n",
            "std       8.089961     0.927051     6.914762     6.977725    40.508814   \n",
            "min      20.000000     1.000000     0.000000     0.000000    13.000000   \n",
            "25%      29.000000     1.000000     3.000000     3.000000    24.000000   \n",
            "50%      35.000000     1.000000     7.000000     7.000000    36.000000   \n",
            "75%      41.000000     2.000000    13.000000    12.000000    56.750000   \n",
            "max      56.000000     5.000000    33.000000    34.000000   446.000000   \n",
            "\n",
            "           debtinc     creddebt      othdebt     default  \n",
            "count  1150.000000  1150.000000  1150.000000  700.000000  \n",
            "mean     10.063391     1.605111     3.103844    0.261429  \n",
            "std       6.584288     2.135967     3.529273    0.439727  \n",
            "min       0.100000     0.011696     0.045584    0.000000  \n",
            "25%       5.200000     0.415584     1.047996    0.000000  \n",
            "50%       8.750000     0.899130     2.038053    0.000000  \n",
            "75%      13.600000     1.898820     3.864960    1.000000  \n",
            "max      41.300000    20.561310    35.197500    1.000000  \n"
          ]
        }
      ]
    },
    {
      "cell_type": "code",
      "source": [
        "#display unique values in target column with the no of each one\n",
        "df['default'].value_counts()"
      ],
      "metadata": {
        "colab": {
          "base_uri": "https://localhost:8080/"
        },
        "id": "oRDgvGvGdqOy",
        "outputId": "cdf66cf7-43c4-4aba-d7fb-a6691dce7913"
      },
      "execution_count": 38,
      "outputs": [
        {
          "output_type": "execute_result",
          "data": {
            "text/plain": [
              "0.0    517\n",
              "1.0    183\n",
              "Name: default, dtype: int64"
            ]
          },
          "metadata": {},
          "execution_count": 38
        }
      ]
    },
    {
      "cell_type": "markdown",
      "source": [
        "**Observations:** There is unbalanced data problem because one class (0) has significantly more samples than the other class (1)."
      ],
      "metadata": {
        "id": "zA8o-WwmxTP_"
      }
    },
    {
      "cell_type": "code",
      "source": [
        "#display data distribution\n",
        "df.hist(figsize=(8,8));"
      ],
      "metadata": {
        "colab": {
          "base_uri": "https://localhost:8080/",
          "height": 499
        },
        "id": "IndeONu1gGxx",
        "outputId": "624129ff-edc0-47e6-9df9-f2477148d565"
      },
      "execution_count": 39,
      "outputs": [
        {
          "output_type": "display_data",
          "data": {
            "text/plain": [
              "<Figure size 576x576 with 9 Axes>"
            ],
            "image/png": "[encoded data removed]"
          },
          "metadata": {
            "needs_background": "light"
          }
        }
      ]
    },
    {
      "cell_type": "markdown",
      "source": [
        "**Observations:** \n",
        "\n",
        "* Most of columns have Right-Skewed (Positive skewness).\n",
        "* It seems that some columns have outliers we should check & deal with them.\n"
      ],
      "metadata": {
        "id": "15zTJ1iyv98A"
      }
    },
    {
      "cell_type": "markdown",
      "source": [
        "#**Fix Data Problems:**\n",
        "\n",
        "1) Removing Duplicated data\n",
        "\n",
        "2) Dealing with missing values\n",
        "\n",
        "3) Solving problematic data types\n",
        "\n",
        "4) Dealing with outliers\n",
        "\n",
        "5) Dealing with unbalanced data problem (Done after splitting the data).\n",
        "\n",
        "6) Solving skewed data problem and rescaling it (Done after splitting the data).\n",
        "\n",
        "\n",
        " "
      ],
      "metadata": {
        "id": "WIMwmj2Syof2"
      }
    },
    {
      "cell_type": "markdown",
      "source": [
        "###1) Duplicates\n",
        "\n",
        "Duplicates existing in data can have several disadvantages, including:\n",
        "\n",
        "* Inaccurate analysis: Duplicates can bias the analysis of the data by inflating the count of certain observations, leading to inaccurate statistics and conclusions.\n",
        "\n",
        "* Wasted resources: Duplicates can also waste valuable resources, such as storage space, processing time, and memory.\n",
        "\n",
        "* Reduced model performance: Duplicates can have a negative impact on model performance by causing overfitting and reducing the effectiveness of predictive models.\n",
        "\n",
        "* Misleading insights: Duplicates can also lead to misleading insights and misinterpretations of the data, which can ultimately result in poor decision making.\n",
        "\n",
        "* Data inconsistency: If duplicates exist in one part of the data, but not in another, it can create inconsistencies and problems in the data integration process.\n",
        "\n",
        "Therefore, it is important to identify and remove duplicates from the data before performing any analysis or modeling to ensure accurate and reliable results."
      ],
      "metadata": {
        "id": "oO6Z3lfrCfCd"
      }
    },
    {
      "cell_type": "code",
      "source": [
        "#Removing duplicates\n",
        "df.drop_duplicates(inplace=True)"
      ],
      "metadata": {
        "id": "yMdBYANSAb-1"
      },
      "execution_count": 40,
      "outputs": []
    },
    {
      "cell_type": "code",
      "source": [
        "#check for any duplicates\n",
        "df.duplicated().any()"
      ],
      "metadata": {
        "colab": {
          "base_uri": "https://localhost:8080/"
        },
        "id": "B65-pmwrAo37",
        "outputId": "13f2f9ee-95d8-465a-ab62-dc068faae56f"
      },
      "execution_count": 41,
      "outputs": [
        {
          "output_type": "execute_result",
          "data": {
            "text/plain": [
              "False"
            ]
          },
          "metadata": {},
          "execution_count": 41
        }
      ]
    },
    {
      "cell_type": "markdown",
      "source": [
        "**Observation:** Duplicated data has been removed successfully. ❤"
      ],
      "metadata": {
        "id": "rIMw8ApeA0_1"
      }
    },
    {
      "cell_type": "markdown",
      "source": [
        "###2) Missing Values\n",
        "\n",
        "Missing values can also have several disadvantages, including:\n",
        "\n",
        "* Bias in statistical analysis: If missing values are not handled properly, they can bias the statistical analysis and lead to inaccurate results.\n",
        "\n",
        "* Reduced sample size: If missing values are not properly handled, it can result in a reduced sample size, which can limit the ability to perform certain statistical tests and model building.\n",
        "\n",
        "* Increased uncertainty: Missing values can also increase the uncertainty and variability of the data, which can negatively impact model performance and lead to unreliable insights.\n",
        "\n",
        "* Reduced data quality: Missing values can also reduce the overall quality of the data, making it less useful and less reliable for decision making.\n",
        "\n",
        "* Data inconsistency: Missing values can also create inconsistencies and problems in the data integration process, especially when merging data from multiple sources.\n",
        "\n",
        "Therefore, it is important to properly handle missing values by either imputing them with appropriate values or removing the observations with missing values before performing any analysis or modeling.\n"
      ],
      "metadata": {
        "id": "7W9OBEaiCnl3"
      }
    },
    {
      "cell_type": "markdown",
      "source": [
        "*There are many effictive techniques to deal with missing values, including:*\n",
        "\n",
        "* Dropping missing values\n",
        "\n",
        "* Mean/median/mode imputation\n",
        "\n",
        "* Forward/Backward Fill\n",
        "\n",
        "* Imputation methods: include regression imputation, k-nearest neighbors (KNN) imputation, and multiple imputation.\n",
        "\n",
        "* Predictive modeling: A model can be trained to predict missing values based on the other available features in the dataset.\n",
        "\n",
        "* Domain knowledge: Depending on the context of the data\n",
        "\n",
        "* Manual data entry\n",
        "\n",
        "* Data augmentation\n",
        "\n",
        "**In our case,** I will choose Predictive modeling technique and use Random Forest algorithm to predict the missing values based on the rest of data ; as I have small number of data as the following."
      ],
      "metadata": {
        "id": "9RXbtmjwO9TE"
      }
    },
    {
      "cell_type": "code",
      "source": [
        "# Split the dataset into two parts: rows with missing data and rows without missing data\n",
        "df_missing = df[df['default'].isnull()]\n",
        "df_not_missing = df[~df['default'].isnull()]\n",
        "\n",
        "# Split the dataset with no missing values into features and target\n",
        "X_train = df_not_missing.drop('default', axis=1)\n",
        "y_train = df_not_missing['default']\n",
        "\n",
        "# Train a random forest classifier to predict missing values in the target column\n",
        "rf = RandomForestClassifier()\n",
        "rf.fit(X_train, y_train)\n",
        "\n",
        "# Use the trained classifier to predict missing values in the target column\n",
        "X_missing = df_missing.drop('default', axis=1)\n",
        "df_missing['default'] = rf.predict(X_missing)\n",
        "\n",
        "# Concatenate the two parts of the dataset back together\n",
        "df = pd.concat([df_not_missing, df_missing])"
      ],
      "metadata": {
        "colab": {
          "base_uri": "https://localhost:8080/"
        },
        "id": "xnNf9KocT7Qj",
        "outputId": "6b08e2f4-0b62-481d-945a-30d06918ffd1"
      },
      "execution_count": 42,
      "outputs": [
        {
          "output_type": "stream",
          "name": "stderr",
          "text": [
            "<ipython-input-42-fad1766a7701>:15: SettingWithCopyWarning: \n",
            "A value is trying to be set on a copy of a slice from a DataFrame.\n",
            "Try using .loc[row_indexer,col_indexer] = value instead\n",
            "\n",
            "See the caveats in the documentation: https://pandas.pydata.org/pandas-docs/stable/user_guide/indexing.html#returning-a-view-versus-a-copy\n",
            "  df_missing['default'] = rf.predict(X_missing)\n"
          ]
        }
      ]
    },
    {
      "cell_type": "code",
      "source": [
        "# Check if there are any remaining missing values\n",
        "missing_values_exist = df['default'].isnull().any()\n",
        "missing_values_exist"
      ],
      "metadata": {
        "colab": {
          "base_uri": "https://localhost:8080/"
        },
        "id": "TT210Y4qQh0m",
        "outputId": "91311637-6e23-4637-b4cb-42c3d931ea0c"
      },
      "execution_count": 43,
      "outputs": [
        {
          "output_type": "execute_result",
          "data": {
            "text/plain": [
              "False"
            ]
          },
          "metadata": {},
          "execution_count": 43
        }
      ]
    },
    {
      "cell_type": "markdown",
      "source": [
        "**Observation:** Missing values have been filled successfully. ❤"
      ],
      "metadata": {
        "id": "KHnshW4HB5Qe"
      }
    },
    {
      "cell_type": "code",
      "source": [
        "#After filling the missing values, we should check again for unbalanced data problem \n",
        "df['default'].value_counts()"
      ],
      "metadata": {
        "colab": {
          "base_uri": "https://localhost:8080/"
        },
        "id": "SHpZmLjAQu0b",
        "outputId": "17bd6bda-2e2c-4839-a8cb-e0440511fb1f"
      },
      "execution_count": 44,
      "outputs": [
        {
          "output_type": "execute_result",
          "data": {
            "text/plain": [
              "0.0    643\n",
              "1.0    207\n",
              "Name: default, dtype: int64"
            ]
          },
          "metadata": {},
          "execution_count": 44
        }
      ]
    },
    {
      "cell_type": "markdown",
      "source": [
        "**Observation:** The unbalanced data problem still exists after filling missing values."
      ],
      "metadata": {
        "id": "EcXpwkb7RZ0s"
      }
    },
    {
      "cell_type": "markdown",
      "source": [
        "###3) Data Types"
      ],
      "metadata": {
        "id": "zzKctDSECtiu"
      }
    },
    {
      "cell_type": "code",
      "source": [
        "# convert 'default' column to integer type\n",
        "df['default'] = df['default'].astype(int)"
      ],
      "metadata": {
        "id": "f1INPB62dqSD"
      },
      "execution_count": 45,
      "outputs": []
    },
    {
      "cell_type": "markdown",
      "source": [
        "**Observation:** Now all columns have appropriate data types. ❤"
      ],
      "metadata": {
        "id": "4BZZpqkBCNmZ"
      }
    },
    {
      "cell_type": "markdown",
      "source": [
        "###4) Outliers\n",
        "\n",
        "In the case of credit risk analysis, it may be helpful to consider alternative techniques for handling outliers beyond simply removing them.\n",
        "There are some useful techniques to deal with outliers including:\n",
        "\n",
        "* **Transforming the data:** Such as the log or square root, to normalize the distribution and reduce the impact of extreme values.\n",
        "\n",
        "* **Using robust statistical methods:** For example, instead of using the mean to summarize the data, one can use the median, which is less affected by outliers. Other robust statistical methods include trimmed means, which involve removing a fixed proportion of the extreme values, and Winsorization, which involves replacing extreme values with less extreme ones.\n",
        "\n",
        "* **Applying machine learning algorithms:** Such as decision trees and random forests, are less sensitive to outliers than others and used to identify and handle outliers in the data."
      ],
      "metadata": {
        "id": "vxM-ekuX_97h"
      }
    },
    {
      "cell_type": "markdown",
      "source": [
        "**Hint** We already will use random forest algorithm that can handle outliers and should consider asking field experts about the nature of these values to deal with them efficiently."
      ],
      "metadata": {
        "id": "a_5kVxsDk7R8"
      }
    },
    {
      "cell_type": "markdown",
      "source": [
        "###**Split Data**"
      ],
      "metadata": {
        "id": "JITkQIEUFD20"
      }
    },
    {
      "cell_type": "code",
      "source": [
        "# extract the feature matrix X and target variable y\n",
        "X = df.drop('default', axis=1)\n",
        "y = df['default']"
      ],
      "metadata": {
        "id": "FA2vo_guFICq"
      },
      "execution_count": 46,
      "outputs": []
    },
    {
      "cell_type": "code",
      "source": [
        "# split the data into training and testing sets\n",
        "X_train, X_test, y_train, y_test = train_test_split(X, y, test_size=0.2, random_state=42)"
      ],
      "metadata": {
        "id": "T4Sc5aReFIFh"
      },
      "execution_count": 47,
      "outputs": []
    },
    {
      "cell_type": "markdown",
      "source": [
        "###5) Unbalanced Data\n",
        "\n",
        "Random over-sampling is a technique used to address the problem of imbalanced datasets by increasing the number of instances in the minority class. \n",
        "\n",
        "This technique involves randomly duplicating examples from the minority class in the training dataset until the size of the minority class is proportional to the majority class. \n",
        "\n",
        "This can help to balance the distribution of the classes and improve the performance of a machine learning model in predicting the minority class.\n",
        "\n",
        "* The **RandomOverSampler** object randomly samples the minority class to match the number of samples in the majority class.\n",
        "\n",
        "* The **fit_resample()** method applies the over-sampling and returns the resampled feature matrix (X_resampled) and target variable."
      ],
      "metadata": {
        "id": "Y24OaO_VC0fW"
      }
    },
    {
      "cell_type": "markdown",
      "source": [
        "**Important Hint**\n",
        "\n",
        "* It is best to oversample data after splitting it into train and test sets because it helps prevent the model from overfitting to the training data. If oversampling is performed on the entire dataset before splitting, it can cause data leakage, where information from the test set leaks into the training set and artificially inflates model performance.\n",
        "\n",
        "* When oversampling is performed only on the training set, the model is forced to learn from the existing data and generate new data based on the existing distribution, rather than simply memorizing the existing data. This can result in a more robust and generalizable model that performs well on new, unseen data.\n",
        "\n",
        "* Additionally, oversampling after splitting the data ensures that the evaluation of the model's performance is not biased by the oversampling technique. By evaluating the model on the original, unmodified test set, we can obtain a more accurate estimate of its true performance on new, unseen data."
      ],
      "metadata": {
        "id": "7boqapuUFaiE"
      }
    },
    {
      "cell_type": "code",
      "source": [
        "from imblearn.over_sampling import RandomOverSampler\n",
        "\n",
        "# Instantiate a random over-sampler object\n",
        "ros = RandomOverSampler()\n",
        "\n",
        "# Resample the data\n",
        "X_train_resampled, y_train_resampled = ros.fit_resample(X_train, y_train)"
      ],
      "metadata": {
        "id": "uxpNXzRzBsuB"
      },
      "execution_count": 48,
      "outputs": []
    },
    {
      "cell_type": "code",
      "source": [
        "#check increasing the number of instances in the minority class\n",
        "y_train_resampled.value_counts()"
      ],
      "metadata": {
        "colab": {
          "base_uri": "https://localhost:8080/"
        },
        "id": "1tUnQdhhHfjY",
        "outputId": "3fbf8f8f-7cc3-4c08-b30d-4731de7f8c64"
      },
      "execution_count": 49,
      "outputs": [
        {
          "output_type": "execute_result",
          "data": {
            "text/plain": [
              "1    517\n",
              "0    517\n",
              "Name: default, dtype: int64"
            ]
          },
          "metadata": {},
          "execution_count": 49
        }
      ]
    },
    {
      "cell_type": "markdown",
      "source": [
        "**Observation:** Data has become balanced. ❤"
      ],
      "metadata": {
        "id": "VQyPw3j-Favz"
      }
    },
    {
      "cell_type": "markdown",
      "source": [
        "###6) Scaling Data\n",
        "\n",
        "By standardizing the data (i.e., scaling it to have zero mean and unit variance), we can ensure that the features are on the same scale and avoid giving undue importance to one feature over another.\n",
        "\n",
        "Here are some situations where data scaling is necessary:\n",
        "\n",
        "* **When the features in the dataset have different ranges:** for example, logistic regression, are sensitive to the range of the input features. If the range of the features is not similar, then the model will give more weight to features with larger values, which may lead to inaccurate predictions.\n",
        "\n",
        "* **When the features have different units of measurement:** then scaling is necessary to make the features comparable.\n",
        "\n",
        "* **When using distance-based algorithms:** such as k-nearest neighbors and clustering, are sensitive to the scale of the data. If the data is not scaled, then features with larger ranges will dominate the distance measure and may lead to incorrect predictions.\n",
        "\n",
        "* **When using gradient descent algorithms:** Gradient descent algorithms, such as logistic regression and neural networks, converge faster on normalized data.\n",
        "\n",
        "* **When the data contains outliers:** Outliers can affect the mean and standard deviation of the feature, leading to poor model performance. Scaling the data can reduce the impact of outliers.\n",
        "\n",
        "Overall, scaling the data helps to improve the performance of the machine learning model and make the features more comparable.\n",
        "\n",
        "\n",
        "\n",
        "\n"
      ],
      "metadata": {
        "id": "5Q2uRZJPD4nM"
      }
    },
    {
      "cell_type": "code",
      "source": [
        "# create the RobustScaler object\n",
        "scaler = RobustScaler()"
      ],
      "metadata": {
        "id": "JvYv30DLFIIP"
      },
      "execution_count": 50,
      "outputs": []
    },
    {
      "cell_type": "markdown",
      "source": [
        "**Important Hint**\n",
        "\n",
        "There are 2 times possible when we want to scale data (Befor or After Splitting it):\n",
        "\n",
        "* If we scale the entire dataset before splitting, we risk introducing data leakage where information from the test set leaks into the training set. This can lead to overestimating the performance of the model on the test set, and in turn, can result in poor generalization performance.\n",
        "\n",
        "* Therefore, it is recommended to fit the scaling object on the training data, and then use it to transform both the training and test data separately after splitting."
      ],
      "metadata": {
        "id": "rlflhAaMkSeF"
      }
    },
    {
      "cell_type": "code",
      "source": [
        "# fit the scaler on the training set\n",
        "scaler.fit(X_train_resampled)"
      ],
      "metadata": {
        "colab": {
          "base_uri": "https://localhost:8080/"
        },
        "id": "smcmvj42FIMj",
        "outputId": "6e33d3c0-21e4-44f5-f458-e4c4c2ee20d3"
      },
      "execution_count": 51,
      "outputs": [
        {
          "output_type": "execute_result",
          "data": {
            "text/plain": [
              "RobustScaler()"
            ]
          },
          "metadata": {},
          "execution_count": 51
        }
      ]
    },
    {
      "cell_type": "code",
      "source": [
        "# transform the training set\n",
        "X_train_scaled = scaler.transform(X_train_resampled)"
      ],
      "metadata": {
        "id": "8mtdE959E3b0"
      },
      "execution_count": 52,
      "outputs": []
    },
    {
      "cell_type": "code",
      "source": [
        "# transform the test set\n",
        "X_test_scaled = scaler.transform(X_test)"
      ],
      "metadata": {
        "id": "V5VCO3zsIMlw"
      },
      "execution_count": 53,
      "outputs": []
    },
    {
      "cell_type": "markdown",
      "source": [
        "To check if the data is scaled after applying Rubost Scaler technique, we can use the following steps:\n",
        "\n"
      ],
      "metadata": {
        "id": "TksmhRtKJHHy"
      }
    },
    {
      "cell_type": "code",
      "source": [
        "#Convert the scaled data to a pandas DataFrame\n",
        "X_scaled_df = pd.DataFrame(X_train_scaled, columns=X.columns)"
      ],
      "metadata": {
        "id": "0D3g18nsJP6X"
      },
      "execution_count": 54,
      "outputs": []
    },
    {
      "cell_type": "code",
      "source": [
        "#Check the mean and standard deviation of each column in the scaled data\n",
        "print(X_scaled_df.mean())\n",
        "print(X_scaled_df.std())"
      ],
      "metadata": {
        "colab": {
          "base_uri": "https://localhost:8080/"
        },
        "id": "MI6jRgkQJP9a",
        "outputId": "be095252-8849-46e4-f161-8669bb5a335a"
      },
      "execution_count": 55,
      "outputs": [
        {
          "output_type": "stream",
          "name": "stdout",
          "text": [
            "age         0.106625\n",
            "ed          0.815280\n",
            "employ      0.160757\n",
            "address     0.213948\n",
            "income      0.391215\n",
            "debtinc     0.135155\n",
            "creddebt    0.448546\n",
            "othdebt     0.336226\n",
            "dtype: float64\n",
            "age         0.694813\n",
            "ed          0.995497\n",
            "employ      0.744735\n",
            "address     0.735870\n",
            "income      1.182831\n",
            "debtinc     0.741493\n",
            "creddebt    1.374256\n",
            "othdebt     1.165057\n",
            "dtype: float64\n"
          ]
        }
      ]
    },
    {
      "cell_type": "markdown",
      "source": [
        "**Observation:** The mean of each column is close to zero and the standard deviation is close to one, then the data has been successfully scaled. ❤"
      ],
      "metadata": {
        "id": "EQkbBIxsJnLD"
      }
    },
    {
      "cell_type": "code",
      "source": [
        "#Check the distribution of each column by creating a histogram\n",
        "X_scaled_df.hist(figsize=(10, 10))\n",
        "plt.show()"
      ],
      "metadata": {
        "colab": {
          "base_uri": "https://localhost:8080/",
          "height": 607
        },
        "id": "vzR0AYkmJQBd",
        "outputId": "f673c13b-fa10-44de-a4e4-2ddbb84cad08"
      },
      "execution_count": 56,
      "outputs": [
        {
          "output_type": "display_data",
          "data": {
            "text/plain": [
              "<Figure size 720x720 with 9 Axes>"
            ],
            "image/png": "[encoded data removed]"
          },
          "metadata": {
            "needs_background": "light"
          }
        }
      ]
    },
    {
      "cell_type": "markdown",
      "source": [
        "**Observation:** Data has been Scaled sucessfully. ❤"
      ],
      "metadata": {
        "id": "6TXh9o2wFGrj"
      }
    },
    {
      "cell_type": "markdown",
      "source": [
        "#**Model selection**\n",
        "\n",
        "Here we should select the appropriate models that suit our problem, and I found that gradient descent, bagging and boosting algorithms are the best in our case because they are popular choices for credit risk analysis and have been shown to perform well in various studies and applications.\n",
        "\n",
        "1) **Logistic regression** is a statistical model that is commonly used for binary classification problems, which makes it an appropriate choice for credit risk analysis, where the goal is to predict whether a loan applicant will default or not. It's also relatively easy to interpret and explain the results of a logistic regression model.\n",
        "\n",
        "2) **Bagging** is a method that involves creating multiple copies of the training data, fitting a model to each copy, and then combining the results to make predictions. Bagging can be effective in reducing the variance of a model and improving its performance. This is especially useful in credit risk analysis, where the dataset may be imbalanced (as our case is) or noisy.\n",
        "\n",
        "3) **Boosting** is a method that involves creating a sequence of weak models and combining them to create a strong model. Boosting can be effective in reducing the bias of a model and improving its accuracy. \n",
        "\n",
        "4) **Neural Networks** are well-suited to credit risk analysis because they are capable of learning complex and non-linear relationships between variables. They can also handle missing or incomplete data, which is common in credit risk analysis, and can make accurate predictions even when there is a high degree of noise or uncertainty in the data.\n",
        "\n"
      ],
      "metadata": {
        "id": "Z6soDcoMWMNp"
      }
    },
    {
      "cell_type": "markdown",
      "source": [
        "#**Model Training**\n",
        "\n",
        "Here we will train our choised algorithms which they are:\n",
        "\n",
        "1) Logistic Regression (Gradient descent algorithm)\n",
        "\n",
        "2) Random Forest (Bagging algorithm)\n",
        "\n",
        "3) XGBoost (Boosting algorithm)\n",
        "\n",
        "4) Gradient Boosting (Boosting algorithm)\n",
        "\n",
        "5) Neural Networks (Gradient descent algorithm)"
      ],
      "metadata": {
        "id": "oN-G9RDDYdvw"
      }
    },
    {
      "cell_type": "code",
      "source": [
        "# Define the machine learning models\n",
        "logreg = LogisticRegression(random_state=42)\n",
        "rf = RandomForestClassifier(random_state=42)\n",
        "xgb = XGBClassifier(random_state=42)\n",
        "gbc = GradientBoostingClassifier(random_state=42)"
      ],
      "metadata": {
        "id": "3IQZoevccuHY"
      },
      "execution_count": 57,
      "outputs": []
    },
    {
      "cell_type": "code",
      "source": [
        "# Train and test the models\n",
        "models = [logreg, rf, xgb, gbc]\n",
        "\n",
        "from tabulate import tabulate\n",
        "\n",
        "headers = [\"Model\", \"Accuracy\", \"Precision\", \"Recall\", \"F1-Score\"]\n",
        "rows = []\n",
        "\n",
        "for model in models:\n",
        "    model.fit(X_train_resampled, y_train_resampled)\n",
        "    y_pred = model.predict(X_test)\n",
        "\n",
        "    acc = accuracy_score(y_test, y_pred)\n",
        "    precision = precision_score(y_test, y_pred)\n",
        "    recall = recall_score(y_test, y_pred)\n",
        "    f1 = f1_score(y_test, y_pred)\n",
        "    \n",
        "    rows.append([type(model).__name__, f\"{acc:.2f}\", f\"{precision:.2f}\", f\"{recall:.2f}\", f\"{f1:.2f}\"])\n",
        "    \n",
        "table = tabulate(rows, headers=headers, tablefmt='orgtbl')\n",
        "print(table)\n"
      ],
      "metadata": {
        "colab": {
          "base_uri": "https://localhost:8080/"
        },
        "id": "JD4lrt98cuKi",
        "outputId": "6f403ac8-3283-4f23-bd02-61edb027516c"
      },
      "execution_count": 58,
      "outputs": [
        {
          "output_type": "stream",
          "name": "stdout",
          "text": [
            "| Model                      |   Accuracy |   Precision |   Recall |   F1-Score |\n",
            "|----------------------------+------------+-------------+----------+------------|\n",
            "| LogisticRegression         |       0.75 |        0.51 |     0.77 |       0.61 |\n",
            "| RandomForestClassifier     |       0.83 |        0.69 |     0.61 |       0.65 |\n",
            "| XGBClassifier              |       0.82 |        0.68 |     0.61 |       0.64 |\n",
            "| GradientBoostingClassifier |       0.82 |        0.63 |     0.73 |       0.67 |\n"
          ]
        }
      ]
    },
    {
      "cell_type": "markdown",
      "source": [
        "**Results Explanation**\n",
        "\n",
        "From these results, we can see that all the models have decent performance with accuracy ranging from 0.75 to 0.83. The best performing model in terms of accuracy is the RandomForestClassifier with an accuracy of 0.83. However, it has a lower recall compared to other models which means that it may not be able to correctly identify all the positive cases of credit default. On the other hand, the GradientBoostingClassifier has the highest recall score of 0.73, which means that it can correctly identify a higher percentage of the positive cases, but its precision score is relatively low which means that it may misclassify some of the negative cases as positive. The other models have a more balanced performance in terms of precision and recall."
      ],
      "metadata": {
        "id": "j6WQCC9CYizr"
      }
    },
    {
      "cell_type": "markdown",
      "source": [
        "**Now the time to see the Neural Networks performance** 😃"
      ],
      "metadata": {
        "id": "qRqfsJo5qcSz"
      }
    },
    {
      "cell_type": "code",
      "source": [
        "# create a sequential model\n",
        "model = Sequential()\n",
        "\n",
        "# add input layer \n",
        "model.add(Dense(32, input_dim=X_train.shape[1], activation='relu'))\n",
        "\n",
        "# add a hidden layer\n",
        "model.add(Dense(32, activation='relu'))\n",
        "\n",
        "# add a hidden layer\n",
        "model.add(Dense(16, activation='relu'))\n",
        "\n",
        "# add a hidden layer\n",
        "model.add(Dense(8, activation='relu'))\n",
        "\n",
        "# add output layer with sigmoid activation function\n",
        "model.add(Dense(1, activation='sigmoid'))\n",
        "\n",
        "# compile the model \n",
        "model.compile(loss='binary_crossentropy', optimizer='adam', metrics=['accuracy'])\n",
        "\n",
        "# set early stopping to prevent overfitting\n",
        "early_stopping = EarlyStopping(monitor='val_loss', patience=10)\n",
        "\n",
        "# train the model on training data\n",
        "history = model.fit(X_train_scaled, y_train_resampled, epochs=30, batch_size=8, validation_data=(X_test_scaled, y_test), callbacks=[early_stopping])\n",
        "\n",
        "# evaluate the model on test data\n",
        "loss, accuracy = model.evaluate(X_test_scaled, y_test)\n",
        "print(f'Test Loss: {loss:.3f}, Test Accuracy: {accuracy:.3f}')\n"
      ],
      "metadata": {
        "colab": {
          "base_uri": "https://localhost:8080/"
        },
        "id": "PsSKglbPaNfb",
        "outputId": "c2e928b0-4e53-42d5-b326-b0a7dcf19090"
      },
      "execution_count": 67,
      "outputs": [
        {
          "output_type": "stream",
          "name": "stdout",
          "text": [
            "Epoch 1/30\n",
            "130/130 [==============================] - 2s 5ms/step - loss: 0.5527 - accuracy: 0.7215 - val_loss: 0.5078 - val_accuracy: 0.7412\n",
            "Epoch 2/30\n",
            "130/130 [==============================] - 0s 3ms/step - loss: 0.4414 - accuracy: 0.7930 - val_loss: 0.4781 - val_accuracy: 0.7353\n",
            "Epoch 3/30\n",
            "130/130 [==============================] - 0s 3ms/step - loss: 0.4115 - accuracy: 0.8191 - val_loss: 0.4903 - val_accuracy: 0.7353\n",
            "Epoch 4/30\n",
            "130/130 [==============================] - 0s 3ms/step - loss: 0.3966 - accuracy: 0.8279 - val_loss: 0.4431 - val_accuracy: 0.8000\n",
            "Epoch 5/30\n",
            "130/130 [==============================] - 0s 3ms/step - loss: 0.3859 - accuracy: 0.8337 - val_loss: 0.4746 - val_accuracy: 0.7706\n",
            "Epoch 6/30\n",
            "130/130 [==============================] - 0s 3ms/step - loss: 0.3752 - accuracy: 0.8472 - val_loss: 0.4724 - val_accuracy: 0.7824\n",
            "Epoch 7/30\n",
            "130/130 [==============================] - 0s 3ms/step - loss: 0.3677 - accuracy: 0.8424 - val_loss: 0.4644 - val_accuracy: 0.7824\n",
            "Epoch 8/30\n",
            "130/130 [==============================] - 0s 4ms/step - loss: 0.3580 - accuracy: 0.8433 - val_loss: 0.4570 - val_accuracy: 0.7882\n",
            "Epoch 9/30\n",
            "130/130 [==============================] - 0s 3ms/step - loss: 0.3524 - accuracy: 0.8530 - val_loss: 0.4441 - val_accuracy: 0.7824\n",
            "Epoch 10/30\n",
            "130/130 [==============================] - 0s 3ms/step - loss: 0.3464 - accuracy: 0.8559 - val_loss: 0.5159 - val_accuracy: 0.7765\n",
            "Epoch 11/30\n",
            "130/130 [==============================] - 0s 3ms/step - loss: 0.3324 - accuracy: 0.8665 - val_loss: 0.5259 - val_accuracy: 0.7647\n",
            "Epoch 12/30\n",
            "130/130 [==============================] - 0s 3ms/step - loss: 0.3276 - accuracy: 0.8646 - val_loss: 0.4905 - val_accuracy: 0.7941\n",
            "Epoch 13/30\n",
            "130/130 [==============================] - 0s 3ms/step - loss: 0.3182 - accuracy: 0.8743 - val_loss: 0.4734 - val_accuracy: 0.8000\n",
            "Epoch 14/30\n",
            "130/130 [==============================] - 1s 6ms/step - loss: 0.3104 - accuracy: 0.8791 - val_loss: 0.4745 - val_accuracy: 0.8059\n",
            "6/6 [==============================] - 0s 4ms/step - loss: 0.4745 - accuracy: 0.8059\n",
            "Test Loss: 0.474, Test Accuracy: 0.806\n"
          ]
        }
      ]
    },
    {
      "cell_type": "markdown",
      "source": [
        "*Visualize the results*"
      ],
      "metadata": {
        "id": "PoTBbOlwaMfM"
      }
    },
    {
      "cell_type": "code",
      "source": [
        "# Extract training and validation accuracy and loss from the history object\n",
        "train_acc = history.history['accuracy']\n",
        "val_acc = history.history['val_accuracy']\n",
        "train_loss = history.history['loss']\n",
        "val_loss = history.history['val_loss']\n",
        "\n",
        "# Plot the training and validation accuracy over each epoch\n",
        "plt.plot(train_acc, label='Training Accuracy')\n",
        "plt.plot(val_acc, label='Validation Accuracy')\n",
        "plt.title('Training and Validation Accuracy')\n",
        "plt.xlabel('Epoch')\n",
        "plt.ylabel('Accuracy')\n",
        "plt.legend()\n",
        "plt.show()\n",
        "\n",
        "# Plot the training and validation loss over each epoch\n",
        "plt.plot(train_loss, label='Training Loss')\n",
        "plt.plot(val_loss, label='Validation Loss')\n",
        "plt.title('Training and Validation Loss')\n",
        "plt.xlabel('Epoch')\n",
        "plt.ylabel('Loss')\n",
        "plt.legend()\n",
        "plt.show()"
      ],
      "metadata": {
        "colab": {
          "base_uri": "https://localhost:8080/",
          "height": 573
        },
        "id": "RkQsSFfWaHXJ",
        "outputId": "be581177-a573-4d19-d0d7-dd18261da7c9"
      },
      "execution_count": 68,
      "outputs": [
        {
          "output_type": "display_data",
          "data": {
            "text/plain": [
              "<Figure size 432x288 with 1 Axes>"
            ],
            "image/png": "[encoded data removed]"
          },
          "metadata": {
            "needs_background": "light"
          }
        },
        {
          "output_type": "display_data",
          "data": {
            "text/plain": [
              "<Figure size 432x288 with 1 Axes>"
            ],
            "image/png": "[encoded data removed]"
          },
          "metadata": {
            "needs_background": "light"
          }
        }
      ]
    },
    {
      "cell_type": "code",
      "source": [
        "#clear session\n",
        "keras.backend.clear_session()"
      ],
      "metadata": {
        "id": "LDtJkP0EhUH_"
      },
      "execution_count": 64,
      "outputs": []
    },
    {
      "cell_type": "markdown",
      "source": [
        "Here are some specific observations we can make based on the results we obtained:\n",
        "\n",
        "* The model's training accuracy starts at 72% and gradually increases to 87% after 14 epochs.\n",
        "\n",
        "* The model's validation accuracy also increases at the beginning of the training but starts to plateau around epoch 9 and doesn't improve much beyond that.\n",
        "\n",
        "* The model's training loss decreases gradually during training from 0.55 to 0.31.\n",
        "\n",
        "* The model's validation loss fluctuates a bit but generally follows the same trend as the training loss and ends up at 0.47.\n",
        "\n",
        "* The model's test accuracy is 80.6%, which is somewhere between the training accuracy and the validation accuracy, suggesting that the model is not overfitting or underfitting too much."
      ],
      "metadata": {
        "id": "hje0a9dmXoaE"
      }
    }
  ]
}